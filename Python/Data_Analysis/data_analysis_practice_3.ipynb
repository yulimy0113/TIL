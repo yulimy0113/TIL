{
 "cells": [
  {
   "cell_type": "markdown",
   "id": "bccb1da0-2dea-4420-83c6-02d4fcacec3b",
   "metadata": {},
   "source": [
    "https://www.datamanim.com/dataset/03_dataq/typeone.html"
   ]
  },
  {
   "cell_type": "code",
   "execution_count": 1,
   "id": "a70ec192-549e-4d11-ae2e-2510d9c98f2c",
   "metadata": {},
   "outputs": [
    {
     "data": {
      "text/html": [
       "<div>\n",
       "<style scoped>\n",
       "    .dataframe tbody tr th:only-of-type {\n",
       "        vertical-align: middle;\n",
       "    }\n",
       "\n",
       "    .dataframe tbody tr th {\n",
       "        vertical-align: top;\n",
       "    }\n",
       "\n",
       "    .dataframe thead th {\n",
       "        text-align: right;\n",
       "    }\n",
       "</style>\n",
       "<table border=\"1\" class=\"dataframe\">\n",
       "  <thead>\n",
       "    <tr style=\"text-align: right;\">\n",
       "      <th></th>\n",
       "      <th>Player</th>\n",
       "      <th>Goals</th>\n",
       "      <th>Years</th>\n",
       "      <th>Country</th>\n",
       "    </tr>\n",
       "  </thead>\n",
       "  <tbody>\n",
       "    <tr>\n",
       "      <th>0</th>\n",
       "      <td>Miroslav Klose</td>\n",
       "      <td>16</td>\n",
       "      <td>2002-2006-2010-2014</td>\n",
       "      <td>Germany</td>\n",
       "    </tr>\n",
       "    <tr>\n",
       "      <th>1</th>\n",
       "      <td>Ronaldo</td>\n",
       "      <td>15</td>\n",
       "      <td>1998-2002-2006</td>\n",
       "      <td>Brazil</td>\n",
       "    </tr>\n",
       "    <tr>\n",
       "      <th>2</th>\n",
       "      <td>Gerd Muller</td>\n",
       "      <td>14</td>\n",
       "      <td>1970-1974</td>\n",
       "      <td>Germany</td>\n",
       "    </tr>\n",
       "    <tr>\n",
       "      <th>3</th>\n",
       "      <td>Just Fontaine</td>\n",
       "      <td>13</td>\n",
       "      <td>1958</td>\n",
       "      <td>France</td>\n",
       "    </tr>\n",
       "    <tr>\n",
       "      <th>4</th>\n",
       "      <td>Pele</td>\n",
       "      <td>12</td>\n",
       "      <td>1958-1962-1966-1970</td>\n",
       "      <td>Brazil</td>\n",
       "    </tr>\n",
       "  </tbody>\n",
       "</table>\n",
       "</div>"
      ],
      "text/plain": [
       "           Player  Goals                Years  Country\n",
       "0  Miroslav Klose     16  2002-2006-2010-2014  Germany\n",
       "1         Ronaldo     15       1998-2002-2006   Brazil\n",
       "2     Gerd Muller     14            1970-1974  Germany\n",
       "3   Just Fontaine     13                 1958   France\n",
       "4            Pele     12  1958-1962-1966-1970   Brazil"
      ]
     },
     "execution_count": 1,
     "metadata": {},
     "output_type": "execute_result"
    }
   ],
   "source": [
    "import pandas as pd\n",
    "\n",
    "df= pd.read_csv('https://raw.githubusercontent.com/Datamanim/datarepo/main/worldcup/worldcupgoals.csv')\n",
    "df.head()"
   ]
  },
  {
   "cell_type": "markdown",
   "id": "145573ee-021a-4b69-8645-d49c9cd8c46e",
   "metadata": {},
   "source": [
    "### Question 21\n",
    "주어진 전체 기간의 각 나라별 골득점수 상위 5개 국가와 그 득점수를 데이터프레임형태로 출력하라."
   ]
  },
  {
   "cell_type": "code",
   "execution_count": 17,
   "id": "ddbdc7fd-aa0d-40f1-8b82-c32d9c5a46a0",
   "metadata": {},
   "outputs": [
    {
     "data": {
      "text/html": [
       "<div>\n",
       "<style scoped>\n",
       "    .dataframe tbody tr th:only-of-type {\n",
       "        vertical-align: middle;\n",
       "    }\n",
       "\n",
       "    .dataframe tbody tr th {\n",
       "        vertical-align: top;\n",
       "    }\n",
       "\n",
       "    .dataframe thead th {\n",
       "        text-align: right;\n",
       "    }\n",
       "</style>\n",
       "<table border=\"1\" class=\"dataframe\">\n",
       "  <thead>\n",
       "    <tr style=\"text-align: right;\">\n",
       "      <th></th>\n",
       "      <th>Country</th>\n",
       "      <th>Goals</th>\n",
       "    </tr>\n",
       "  </thead>\n",
       "  <tbody>\n",
       "    <tr>\n",
       "      <th>0</th>\n",
       "      <td>Brazil</td>\n",
       "      <td>228</td>\n",
       "    </tr>\n",
       "    <tr>\n",
       "      <th>1</th>\n",
       "      <td>Germany</td>\n",
       "      <td>226</td>\n",
       "    </tr>\n",
       "    <tr>\n",
       "      <th>2</th>\n",
       "      <td>Argentina</td>\n",
       "      <td>135</td>\n",
       "    </tr>\n",
       "    <tr>\n",
       "      <th>3</th>\n",
       "      <td>Italy</td>\n",
       "      <td>123</td>\n",
       "    </tr>\n",
       "    <tr>\n",
       "      <th>4</th>\n",
       "      <td>France</td>\n",
       "      <td>115</td>\n",
       "    </tr>\n",
       "  </tbody>\n",
       "</table>\n",
       "</div>"
      ],
      "text/plain": [
       "     Country  Goals\n",
       "0     Brazil    228\n",
       "1    Germany    226\n",
       "2  Argentina    135\n",
       "3      Italy    123\n",
       "4     France    115"
      ]
     },
     "execution_count": 17,
     "metadata": {},
     "output_type": "execute_result"
    }
   ],
   "source": [
    "top_5_country = df.groupby('Country', as_index = False).sum(['Goals']).sort_values('Goals', ascending = False).reset_index(drop = True).head()\n",
    "top_5_country"
   ]
  },
  {
   "cell_type": "markdown",
   "id": "6f14feff-4ada-4bb7-a404-79025499357a",
   "metadata": {},
   "source": [
    "### Question 22\n",
    "주어진 전체기간동안 골득점을 한 선수가 가장 많은 나라 상위 5개 국가와 그 선수 숫자를 데이터 프레임 형식으로 출력하라."
   ]
  },
  {
   "cell_type": "code",
   "execution_count": 20,
   "id": "e8779668-069b-4120-8bd6-cb59c91896ea",
   "metadata": {},
   "outputs": [
    {
     "data": {
      "text/html": [
       "<div>\n",
       "<style scoped>\n",
       "    .dataframe tbody tr th:only-of-type {\n",
       "        vertical-align: middle;\n",
       "    }\n",
       "\n",
       "    .dataframe tbody tr th {\n",
       "        vertical-align: top;\n",
       "    }\n",
       "\n",
       "    .dataframe thead th {\n",
       "        text-align: right;\n",
       "    }\n",
       "</style>\n",
       "<table border=\"1\" class=\"dataframe\">\n",
       "  <thead>\n",
       "    <tr style=\"text-align: right;\">\n",
       "      <th></th>\n",
       "      <th>Country</th>\n",
       "      <th>Player</th>\n",
       "    </tr>\n",
       "  </thead>\n",
       "  <tbody>\n",
       "    <tr>\n",
       "      <th>0</th>\n",
       "      <td>Brazil</td>\n",
       "      <td>81</td>\n",
       "    </tr>\n",
       "    <tr>\n",
       "      <th>1</th>\n",
       "      <td>Germany</td>\n",
       "      <td>78</td>\n",
       "    </tr>\n",
       "    <tr>\n",
       "      <th>2</th>\n",
       "      <td>Italy</td>\n",
       "      <td>60</td>\n",
       "    </tr>\n",
       "    <tr>\n",
       "      <th>3</th>\n",
       "      <td>Argentina</td>\n",
       "      <td>59</td>\n",
       "    </tr>\n",
       "    <tr>\n",
       "      <th>4</th>\n",
       "      <td>France</td>\n",
       "      <td>58</td>\n",
       "    </tr>\n",
       "  </tbody>\n",
       "</table>\n",
       "</div>"
      ],
      "text/plain": [
       "     Country  Player\n",
       "0     Brazil      81\n",
       "1    Germany      78\n",
       "2      Italy      60\n",
       "3  Argentina      59\n",
       "4     France      58"
      ]
     },
     "execution_count": 20,
     "metadata": {},
     "output_type": "execute_result"
    }
   ],
   "source": [
    "top_5_player = df[[\"Player\", \"Country\"]].groupby(\"Country\", as_index = False).count().sort_values(\"Player\", ascending = False).reset_index(drop = True).head()\n",
    "top_5_player"
   ]
  },
  {
   "cell_type": "markdown",
   "id": "c56250b3-349b-4722-83a6-694f9217f0c9",
   "metadata": {},
   "source": [
    "### Question 23\n",
    "Years 컬럼은 년도 -년도 형식으로 구성되어있고, 각 년도는 4자리 숫자이다.  \n",
    "년도 표기가 4자리 숫자로 안된 케이스가 존재한다. 해당 건은 몇건인지 출력하라."
   ]
  },
  {
   "cell_type": "code",
   "execution_count": 64,
   "id": "a82ad778-031e-433b-a4f1-fb4843122de7",
   "metadata": {},
   "outputs": [],
   "source": [
    "is_it_4 = lambda x: len(x) != 4\n",
    "years = list(map(lambda year: year.split(\"-\"), list(df.Years)))\n",
    "no_4_years = [[is_it_4(year) for year in yr_group] for yr_group in years]"
   ]
  },
  {
   "cell_type": "code",
   "execution_count": 67,
   "id": "9a757bfa-8275-447d-82d3-5735a6ff51bb",
   "metadata": {},
   "outputs": [
    {
     "data": {
      "text/plain": [
       "45"
      ]
     },
     "execution_count": 67,
     "metadata": {},
     "output_type": "execute_result"
    }
   ],
   "source": [
    "answer = [i for i, sublist in enumerate(no_4_years) if any(sublist)]\n",
    "len(answer)"
   ]
  },
  {
   "cell_type": "markdown",
   "id": "b9a14707-5ed5-43e8-89dc-70787b7f4391",
   "metadata": {},
   "source": [
    "### Question 24\n",
    "Q3에서 발생한 예외 케이스를 제외한 데이터프레임을 df2라고 정의하고 데이터의 행의 숫자를 출력하라."
   ]
  },
  {
   "cell_type": "code",
   "execution_count": 73,
   "id": "d2cbe804-6713-4f5a-9d38-7c0115450947",
   "metadata": {},
   "outputs": [],
   "source": [
    "df2 = df.drop(answer).reset_index(drop = True)"
   ]
  },
  {
   "cell_type": "code",
   "execution_count": 75,
   "id": "6e1b0068-a3a2-4925-911c-1ecfd25fbb07",
   "metadata": {},
   "outputs": [
    {
     "data": {
      "text/plain": [
       "1250"
      ]
     },
     "execution_count": 75,
     "metadata": {},
     "output_type": "execute_result"
    }
   ],
   "source": [
    "len(df2)"
   ]
  },
  {
   "cell_type": "markdown",
   "id": "44347a4f-d587-41c2-ab67-f5fbf9f5e8ba",
   "metadata": {},
   "source": [
    "### Question 25\n",
    "월드컵 출전횟수를 나타내는 ‘LenCup’ 컬럼을 추가하고 4회 출전한 선수의 숫자를 구하여라."
   ]
  },
  {
   "cell_type": "code",
   "execution_count": 81,
   "id": "508cb820-5044-496e-a4e9-a00dcd344ef9",
   "metadata": {},
   "outputs": [],
   "source": [
    "how_many_years = lambda x: len(x.split(\"-\"))\n",
    "df2['LenCup'] = df2['Years'].apply(how_many_years)"
   ]
  },
  {
   "cell_type": "code",
   "execution_count": 91,
   "id": "895b5862-993e-491d-be45-8b9e194cd3f5",
   "metadata": {},
   "outputs": [
    {
     "data": {
      "text/plain": [
       "16"
      ]
     },
     "execution_count": 91,
     "metadata": {},
     "output_type": "execute_result"
    }
   ],
   "source": [
    "answer = df2[df2.LenCup == 4][\"Player\"].count()\n",
    "answer"
   ]
  },
  {
   "cell_type": "markdown",
   "id": "eba7b9ba-d77e-4e51-805a-56ef6f383854",
   "metadata": {},
   "source": [
    "### Question 26\n",
    "Yugoslavia 국가의 월드컵 출전횟수가 2회인 선수들의 숫자를 구하여라."
   ]
  },
  {
   "cell_type": "code",
   "execution_count": 95,
   "id": "824daf04-1e31-4dda-9c06-1a23a4af4222",
   "metadata": {},
   "outputs": [
    {
     "data": {
      "text/plain": [
       "7"
      ]
     },
     "execution_count": 95,
     "metadata": {},
     "output_type": "execute_result"
    }
   ],
   "source": [
    "df2[(df2.Country == \"Yugoslavia\") & (df2.LenCup == 2)][\"Player\"].count()"
   ]
  },
  {
   "cell_type": "markdown",
   "id": "f3dfdf75-e7b6-4495-81e6-43d367eeecb8",
   "metadata": {},
   "source": [
    "### Question 27\n",
    "2002년도에 출전한 전체 선수는 몇명인가?"
   ]
  },
  {
   "cell_type": "code",
   "execution_count": 101,
   "id": "230706ec-fe39-421c-b2ae-00f74048cccb",
   "metadata": {},
   "outputs": [
    {
     "data": {
      "text/plain": [
       "156"
      ]
     },
     "execution_count": 101,
     "metadata": {},
     "output_type": "execute_result"
    }
   ],
   "source": [
    "played_in_2002 = lambda x: '2002' in x.split(\"-\")\n",
    "answer = df2[\"Years\"].apply(played_in_2002).sum()\n",
    "answer"
   ]
  },
  {
   "cell_type": "markdown",
   "id": "4350d5db-268e-462a-9a2d-8d4323954713",
   "metadata": {},
   "source": [
    "### Question 28\n",
    "이름에 ‘carlos’ 단어가 들어가는 선수의 숫자는 몇 명인가? (대, 소문자 구분 x)"
   ]
  },
  {
   "cell_type": "code",
   "execution_count": 117,
   "id": "801f462e-6d9b-4f38-8d09-9054d831b506",
   "metadata": {},
   "outputs": [],
   "source": [
    "is_his_name_Carlos = lambda name: \"Carlos\" in name.split(\" \")"
   ]
  },
  {
   "cell_type": "code",
   "execution_count": 118,
   "id": "2a4fc113-27ac-4c27-af57-548a7fff15e3",
   "metadata": {},
   "outputs": [
    {
     "data": {
      "text/plain": [
       "13"
      ]
     },
     "execution_count": 118,
     "metadata": {},
     "output_type": "execute_result"
    }
   ],
   "source": [
    "df2[\"Player\"].apply(is_his_name_Carlos).sum()"
   ]
  },
  {
   "cell_type": "code",
   "execution_count": 122,
   "id": "8bb209cf-b056-4abf-94e8-669a725666b9",
   "metadata": {},
   "outputs": [
    {
     "data": {
      "text/html": [
       "<div>\n",
       "<style scoped>\n",
       "    .dataframe tbody tr th:only-of-type {\n",
       "        vertical-align: middle;\n",
       "    }\n",
       "\n",
       "    .dataframe tbody tr th {\n",
       "        vertical-align: top;\n",
       "    }\n",
       "\n",
       "    .dataframe thead th {\n",
       "        text-align: right;\n",
       "    }\n",
       "</style>\n",
       "<table border=\"1\" class=\"dataframe\">\n",
       "  <thead>\n",
       "    <tr style=\"text-align: right;\">\n",
       "      <th></th>\n",
       "      <th>Player</th>\n",
       "      <th>Goals</th>\n",
       "      <th>Years</th>\n",
       "      <th>Country</th>\n",
       "      <th>LenCup</th>\n",
       "    </tr>\n",
       "  </thead>\n",
       "  <tbody>\n",
       "    <tr>\n",
       "      <th>149</th>\n",
       "      <td>Carlos Borges</td>\n",
       "      <td>4</td>\n",
       "      <td>1954</td>\n",
       "      <td>Uruguay</td>\n",
       "      <td>1</td>\n",
       "    </tr>\n",
       "    <tr>\n",
       "      <th>162</th>\n",
       "      <td>Carlos Peucelle</td>\n",
       "      <td>3</td>\n",
       "      <td>1930</td>\n",
       "      <td>Argentina</td>\n",
       "      <td>1</td>\n",
       "    </tr>\n",
       "    <tr>\n",
       "      <th>164</th>\n",
       "      <td>Carlos Tevez</td>\n",
       "      <td>3</td>\n",
       "      <td>2006-2010</td>\n",
       "      <td>Argentina</td>\n",
       "      <td>2</td>\n",
       "    </tr>\n",
       "    <tr>\n",
       "      <th>335</th>\n",
       "      <td>Carlos Tenorio</td>\n",
       "      <td>2</td>\n",
       "      <td>2002-2006</td>\n",
       "      <td>Ecuador</td>\n",
       "      <td>2</td>\n",
       "    </tr>\n",
       "    <tr>\n",
       "      <th>506</th>\n",
       "      <td>Carlos Babington</td>\n",
       "      <td>1</td>\n",
       "      <td>1974</td>\n",
       "      <td>Argentina</td>\n",
       "      <td>1</td>\n",
       "    </tr>\n",
       "    <tr>\n",
       "      <th>578</th>\n",
       "      <td>Carlos Alberto</td>\n",
       "      <td>1</td>\n",
       "      <td>1970</td>\n",
       "      <td>Brazil</td>\n",
       "      <td>1</td>\n",
       "    </tr>\n",
       "    <tr>\n",
       "      <th>583</th>\n",
       "      <td>Roberto Carlos</td>\n",
       "      <td>1</td>\n",
       "      <td>1998-2002-2006</td>\n",
       "      <td>Brazil</td>\n",
       "      <td>3</td>\n",
       "    </tr>\n",
       "    <tr>\n",
       "      <th>633</th>\n",
       "      <td>Carlos Vidal</td>\n",
       "      <td>1</td>\n",
       "      <td>1930</td>\n",
       "      <td>Chile</td>\n",
       "      <td>1</td>\n",
       "    </tr>\n",
       "    <tr>\n",
       "      <th>643</th>\n",
       "      <td>Carlos Valderrama</td>\n",
       "      <td>1</td>\n",
       "      <td>1990-1994-1998</td>\n",
       "      <td>Colombia</td>\n",
       "      <td>3</td>\n",
       "    </tr>\n",
       "    <tr>\n",
       "      <th>671</th>\n",
       "      <td>Carlos Oliveira</td>\n",
       "      <td>1</td>\n",
       "      <td>1938</td>\n",
       "      <td>Cuba</td>\n",
       "      <td>1</td>\n",
       "    </tr>\n",
       "    <tr>\n",
       "      <th>911</th>\n",
       "      <td>Carlos Vela</td>\n",
       "      <td>1</td>\n",
       "      <td>2018</td>\n",
       "      <td>Mexico</td>\n",
       "      <td>1</td>\n",
       "    </tr>\n",
       "    <tr>\n",
       "      <th>1006</th>\n",
       "      <td>Carlos Manuel</td>\n",
       "      <td>1</td>\n",
       "      <td>1986</td>\n",
       "      <td>Portugal</td>\n",
       "      <td>1</td>\n",
       "    </tr>\n",
       "    <tr>\n",
       "      <th>1111</th>\n",
       "      <td>Juan Carlos Valeron</td>\n",
       "      <td>1</td>\n",
       "      <td>2002</td>\n",
       "      <td>Spain</td>\n",
       "      <td>1</td>\n",
       "    </tr>\n",
       "  </tbody>\n",
       "</table>\n",
       "</div>"
      ],
      "text/plain": [
       "                   Player  Goals           Years    Country  LenCup\n",
       "149         Carlos Borges      4            1954    Uruguay       1\n",
       "162       Carlos Peucelle      3            1930  Argentina       1\n",
       "164          Carlos Tevez      3       2006-2010  Argentina       2\n",
       "335        Carlos Tenorio      2       2002-2006    Ecuador       2\n",
       "506      Carlos Babington      1            1974  Argentina       1\n",
       "578        Carlos Alberto      1            1970     Brazil       1\n",
       "583        Roberto Carlos      1  1998-2002-2006     Brazil       3\n",
       "633          Carlos Vidal      1            1930      Chile       1\n",
       "643     Carlos Valderrama      1  1990-1994-1998   Colombia       3\n",
       "671       Carlos Oliveira      1            1938       Cuba       1\n",
       "911           Carlos Vela      1            2018     Mexico       1\n",
       "1006        Carlos Manuel      1            1986   Portugal       1\n",
       "1111  Juan Carlos Valeron      1            2002      Spain       1"
      ]
     },
     "execution_count": 122,
     "metadata": {},
     "output_type": "execute_result"
    }
   ],
   "source": [
    "# or\n",
    "df2[df2.Player.str.lower().str.contains('carlos')]"
   ]
  },
  {
   "cell_type": "markdown",
   "id": "9948cbf3-38c8-4c7f-a58d-236d531c6233",
   "metadata": {},
   "source": [
    "### Question 29\n",
    "월드컵 출전 횟수가 1회뿐인 선수들 중에서 가장 많은 득점을 올렸던 선수는 누구인가?"
   ]
  },
  {
   "cell_type": "code",
   "execution_count": 132,
   "id": "902675b5-f91a-4f6e-880f-959ba661ae8c",
   "metadata": {},
   "outputs": [
    {
     "data": {
      "text/plain": [
       "'Just Fontaine'"
      ]
     },
     "execution_count": 132,
     "metadata": {},
     "output_type": "execute_result"
    }
   ],
   "source": [
    "answer = df2[df2.LenCup == 1].sort_values('Goals', ascending = False).head(1)\n",
    "answer.Player.item()"
   ]
  },
  {
   "cell_type": "markdown",
   "id": "a667d90f-eee1-4b2c-a4eb-593d54e229f4",
   "metadata": {},
   "source": [
    "### Question 30\n",
    "월드컵 출전횟수가 1회 뿐인 선수들이 가장 많은 국가는 어디인가?"
   ]
  },
  {
   "cell_type": "code",
   "execution_count": 139,
   "id": "e7f11da7-a391-49e0-aeea-9493682c4243",
   "metadata": {},
   "outputs": [
    {
     "data": {
      "text/plain": [
       "'Brazil'"
      ]
     },
     "execution_count": 139,
     "metadata": {},
     "output_type": "execute_result"
    }
   ],
   "source": [
    "answer = df2[df2.LenCup == 1][[\"Player\", \"Country\"]].groupby('Country', as_index = False).count().sort_values(\"Player\", ascending = False).head(1)\n",
    "answer.Country.item()"
   ]
  },
  {
   "cell_type": "code",
   "execution_count": null,
   "id": "ea2f00e9-3106-4748-b636-78c3021e482d",
   "metadata": {},
   "outputs": [],
   "source": []
  }
 ],
 "metadata": {
  "kernelspec": {
   "display_name": "Python 3 (ipykernel)",
   "language": "python",
   "name": "python3"
  },
  "language_info": {
   "codemirror_mode": {
    "name": "ipython",
    "version": 3
   },
   "file_extension": ".py",
   "mimetype": "text/x-python",
   "name": "python",
   "nbconvert_exporter": "python",
   "pygments_lexer": "ipython3",
   "version": "3.11.7"
  }
 },
 "nbformat": 4,
 "nbformat_minor": 5
}
